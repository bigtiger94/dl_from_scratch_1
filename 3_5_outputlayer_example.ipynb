{
 "cells": [
  {
   "cell_type": "code",
   "execution_count": 1,
   "id": "young-prayer",
   "metadata": {},
   "outputs": [],
   "source": [
    "import os\n",
    "import numpy as np "
   ]
  },
  {
   "cell_type": "code",
   "execution_count": 3,
   "id": "printable-conviction",
   "metadata": {},
   "outputs": [],
   "source": [
    "# ordinary softmax\n",
    "a = np.array([0.3, 2.9, 4.0])\n",
    "a_exp = np.exp(a)\n",
    "print(a_exp)"
   ]
  },
  {
   "cell_type": "code",
   "execution_count": 7,
   "id": "regular-novelty",
   "metadata": {},
   "outputs": [],
   "source": [
    "sum_a_exp = np.sum(a_exp)\n",
    "print(sum_a_exp)"
   ]
  },
  {
   "cell_type": "code",
   "execution_count": 9,
   "id": "square-compiler",
   "metadata": {},
   "outputs": [],
   "source": [
    "y = a_exp / sum_a_exp"
   ]
  },
  {
   "cell_type": "code",
   "execution_count": 11,
   "id": "revised-escape",
   "metadata": {},
   "outputs": [
    {
     "name": "stdout",
     "output_type": "stream",
     "text": [
      "[0.01821127 0.24519181 0.73659691]\n"
     ]
    }
   ],
   "source": [
    "# softmax example\n",
    "print(y)"
   ]
  },
  {
   "cell_type": "code",
   "execution_count": 12,
   "id": "fourth-tradition",
   "metadata": {},
   "outputs": [],
   "source": [
    "def softmax(val):\n",
    "    val_exp = np.exp(val)\n",
    "    sum_val_exp = np.sum(val_exp)\n",
    "    y = val_exp / sum_val_exp\n",
    "    return(y)"
   ]
  },
  {
   "cell_type": "code",
   "execution_count": 14,
   "id": "loved-polyester",
   "metadata": {},
   "outputs": [
    {
     "name": "stderr",
     "output_type": "stream",
     "text": [
      "c:\\users\\haenm\\anaconda3\\envs\\bt\\lib\\site-packages\\ipykernel_launcher.py:3: RuntimeWarning: overflow encountered in exp\n",
      "  This is separate from the ipykernel package so we can avoid doing imports until\n",
      "c:\\users\\haenm\\anaconda3\\envs\\bt\\lib\\site-packages\\ipykernel_launcher.py:3: RuntimeWarning: invalid value encountered in true_divide\n",
      "  This is separate from the ipykernel package so we can avoid doing imports until\n"
     ]
    },
    {
     "data": {
      "text/plain": [
       "array([nan, nan, nan])"
      ]
     },
     "execution_count": 14,
     "metadata": {},
     "output_type": "execute_result"
    }
   ],
   "source": [
    "# modified softmax\n",
    "a = np.array([1010, 1000, 990])\n",
    "np.exp(a) / np.sum(np.exp(a))"
   ]
  },
  {
   "cell_type": "code",
   "execution_count": 15,
   "id": "hydraulic-bidding",
   "metadata": {},
   "outputs": [],
   "source": [
    "C = np.max(a)"
   ]
  },
  {
   "cell_type": "code",
   "execution_count": 16,
   "id": "gross-flooring",
   "metadata": {},
   "outputs": [
    {
     "data": {
      "text/plain": [
       "array([  0, -10, -20])"
      ]
     },
     "execution_count": 16,
     "metadata": {},
     "output_type": "execute_result"
    }
   ],
   "source": [
    "a-C"
   ]
  },
  {
   "cell_type": "code",
   "execution_count": 19,
   "id": "shaped-suicide",
   "metadata": {},
   "outputs": [
    {
     "data": {
      "text/plain": [
       "array([9.99954600e-01, 4.53978686e-05, 2.06106005e-09])"
      ]
     },
     "execution_count": 19,
     "metadata": {},
     "output_type": "execute_result"
    }
   ],
   "source": [
    "np.exp(a-C)/np.sum(np.exp(a-C))"
   ]
  },
  {
   "cell_type": "code",
   "execution_count": 20,
   "id": "divided-pound",
   "metadata": {},
   "outputs": [
    {
     "data": {
      "text/plain": [
       "1.0"
      ]
     },
     "execution_count": 20,
     "metadata": {},
     "output_type": "execute_result"
    }
   ],
   "source": [
    "np.sum(np.exp(a-C)/np.sum(np.exp(a-C)))"
   ]
  },
  {
   "cell_type": "code",
   "execution_count": 21,
   "id": "current-cookbook",
   "metadata": {},
   "outputs": [],
   "source": [
    "def softmax(val):\n",
    "    C = np.max(val)\n",
    "    exp_val = np.exp(val-C)\n",
    "    y = exp_val / np.sum(exp_val)\n",
    "    return(y)"
   ]
  },
  {
   "cell_type": "code",
   "execution_count": null,
   "id": "saved-proof",
   "metadata": {},
   "outputs": [],
   "source": []
  }
 ],
 "metadata": {
  "kernelspec": {
   "display_name": "Python 3",
   "language": "python",
   "name": "python3"
  },
  "language_info": {
   "codemirror_mode": {
    "name": "ipython",
    "version": 3
   },
   "file_extension": ".py",
   "mimetype": "text/x-python",
   "name": "python",
   "nbconvert_exporter": "python",
   "pygments_lexer": "ipython3",
   "version": "3.6.12"
  }
 },
 "nbformat": 4,
 "nbformat_minor": 5
}
